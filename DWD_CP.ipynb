{
  "nbformat": 4,
  "nbformat_minor": 0,
  "metadata": {
    "colab": {
      "name": "DWD_CP.ipynb",
      "provenance": []
    },
    "kernelspec": {
      "name": "python3",
      "display_name": "Python 3"
    }
  },
  "cells": [
    {
      "cell_type": "code",
      "metadata": {
        "id": "Y3Q9ipcUzv_b"
      },
      "source": [
        "# Import and load iris dataset from sklearn\n",
        "from sklearn.datasets import load_iris\n",
        "import numpy as np\n",
        "import keras\n",
        "np.random.seed(10) # Generates same random sequence each time\n",
        "\n",
        "iris = load_iris()"
      ],
      "execution_count": 1,
      "outputs": []
    },
    {
      "cell_type": "code",
      "metadata": {
        "colab": {
          "base_uri": "https://localhost:8080/"
        },
        "id": "qLYN1qSZz3Ma",
        "outputId": "85ea39c1-2d6e-42a3-f4aa-b24bb90046cf"
      },
      "source": [
        "print('keys in iris dictionary: ', iris.keys())\n",
        "\n",
        "X = iris['data']\n",
        "print('First 3 entries of X:', '\\n', X[:3])\n",
        "\n",
        "Y = iris['target']\n",
        "print('First 3 entries of Y:', '\\n', Y[:3])\n",
        "\n",
        "names = iris['target_names']\n",
        "print('names:', names)\n",
        "feature_names = iris['feature_names']\n",
        "print('feature_names:', feature_names)\n",
        "\n",
        "# Track a few sample points\n",
        "isamples = np.random.randint(len(Y), size = (5))\n",
        "print(isamples)"
      ],
      "execution_count": 2,
      "outputs": [
        {
          "output_type": "stream",
          "text": [
            "keys in iris dictionary:  dict_keys(['data', 'target', 'target_names', 'DESCR', 'feature_names', 'filename'])\n",
            "First 3 entries of X: \n",
            " [[5.1 3.5 1.4 0.2]\n",
            " [4.9 3.  1.4 0.2]\n",
            " [4.7 3.2 1.3 0.2]]\n",
            "First 3 entries of Y: \n",
            " [0 0 0]\n",
            "names: ['setosa' 'versicolor' 'virginica']\n",
            "feature_names: ['sepal length (cm)', 'sepal width (cm)', 'petal length (cm)', 'petal width (cm)']\n",
            "[  9 125  15  64 113]\n"
          ],
          "name": "stdout"
        }
      ]
    },
    {
      "cell_type": "code",
      "metadata": {
        "colab": {
          "base_uri": "https://localhost:8080/"
        },
        "id": "wqIRoOzc0DHu",
        "outputId": "442f1e99-f6b3-4ff3-8964-a1867f45a9ad"
      },
      "source": [
        "# Shape of Data\n",
        "print('Shape of X:', X.shape)\n",
        "print('Shape of Y:', Y.shape)\n",
        "print('X - samples:', X[isamples])\n",
        "print('Y- samples:', Y[isamples])"
      ],
      "execution_count": 3,
      "outputs": [
        {
          "output_type": "stream",
          "text": [
            "Shape of X: (150, 4)\n",
            "Shape of Y: (150,)\n",
            "X - samples: [[4.9 3.1 1.5 0.1]\n",
            " [7.2 3.2 6.  1.8]\n",
            " [5.7 4.4 1.5 0.4]\n",
            " [5.6 2.9 3.6 1.3]\n",
            " [5.7 2.5 5.  2. ]]\n",
            "Y- samples: [0 2 0 1 2]\n"
          ],
          "name": "stdout"
        }
      ]
    },
    {
      "cell_type": "code",
      "metadata": {
        "colab": {
          "base_uri": "https://localhost:8080/"
        },
        "id": "N4M3V1hD0Hof",
        "outputId": "2229536e-9ac4-45c5-8d29-d36fce474647"
      },
      "source": [
        "from keras.utils import to_categorical\n",
        "\n",
        "Ny = len(np.unique(Y)) # Ny is number of categories/classes\n",
        "print('Ny: ', Ny)\n",
        "\n",
        "Y = to_categorical(Y[:], num_classes = Ny) # converted to 1-hot\n",
        "\n",
        "print('X - samples:', X[isamples])\n",
        "print('Y- samples:', Y[isamples])"
      ],
      "execution_count": 4,
      "outputs": [
        {
          "output_type": "stream",
          "text": [
            "Ny:  3\n",
            "X - samples: [[4.9 3.1 1.5 0.1]\n",
            " [7.2 3.2 6.  1.8]\n",
            " [5.7 4.4 1.5 0.4]\n",
            " [5.6 2.9 3.6 1.3]\n",
            " [5.7 2.5 5.  2. ]]\n",
            "Y- samples: [[1. 0. 0.]\n",
            " [0. 0. 1.]\n",
            " [1. 0. 0.]\n",
            " [0. 1. 0.]\n",
            " [0. 0. 1.]]\n"
          ],
          "name": "stdout"
        }
      ]
    },
    {
      "cell_type": "code",
      "metadata": {
        "colab": {
          "base_uri": "https://localhost:8080/"
        },
        "id": "fYpsiEAr0Kb6",
        "outputId": "b06e40fe-958f-4412-97ac-773b46109d55"
      },
      "source": [
        "from sklearn.model_selection import train_test_split\n",
        "from sklearn.metrics import confusion_matrix\n",
        "\n",
        "X_train, X_test, Y_train, Y_test = train_test_split(X, Y, test_size = 0.20, random_state = 1)\n",
        "print('X_train shape:', X_train.shape)\n",
        "print('X_test.shape:', X_test.shape)"
      ],
      "execution_count": 5,
      "outputs": [
        {
          "output_type": "stream",
          "text": [
            "X_train shape: (120, 4)\n",
            "X_test.shape: (30, 4)\n"
          ],
          "name": "stdout"
        }
      ]
    },
    {
      "cell_type": "code",
      "metadata": {
        "colab": {
          "base_uri": "https://localhost:8080/"
        },
        "id": "qz-sxk310Ojz",
        "outputId": "0124de17-c9c0-45db-a9a8-54044f16c2a0"
      },
      "source": [
        "from sklearn.preprocessing import StandardScaler\n",
        "\n",
        "scaler = StandardScaler()\n",
        "scaler.fit(X_train) # Computes the mean and standard deviation\n",
        "\n",
        "X_train = scaler.transform(X_train) # Perform transformation: x = (x-mean)/std\n",
        "X_test = scaler.transform(X_test)\n",
        "print('X_train: \\n', X_train[:5]) # first 5 samples of X_train\n",
        "print('Y_train: \\n', Y_train[:5])"
      ],
      "execution_count": 6,
      "outputs": [
        {
          "output_type": "stream",
          "text": [
            "X_train: \n",
            " [[ 0.31553662 -0.04578885  0.44767531  0.23380268]\n",
            " [ 2.2449325  -0.04578885  1.29769171  1.39742892]\n",
            " [-0.2873996  -1.24028061  0.05100098 -0.15407273]\n",
            " [ 0.67729835 -0.52358555  1.01435291  1.13884531]\n",
            " [-0.04622511 -0.52358555  0.73101411  1.52672073]]\n",
            "Y_train: \n",
            " [[0. 1. 0.]\n",
            " [0. 0. 1.]\n",
            " [0. 1. 0.]\n",
            " [0. 0. 1.]\n",
            " [0. 0. 1.]]\n"
          ],
          "name": "stdout"
        }
      ]
    },
    {
      "cell_type": "code",
      "metadata": {
        "colab": {
          "base_uri": "https://localhost:8080/"
        },
        "id": "eZH1_ifI0WeR",
        "outputId": "bb963e9c-0ccf-423b-8072-8a71063fc14e"
      },
      "source": [
        "# define function to add column of 1's\n",
        "addlcol = lambda x: np.concatenate((x, np.ones((x.shape[0], 1))), axis = 1)\n",
        "\n",
        "Ns, Nx = X_train.shape\n",
        "print('Ns: ', Ns, 'Nx: ', Nx)\n",
        "\n",
        "def find_weights(A, Y):\n",
        "    print(A.shape)\n",
        "    \n",
        "    print(Y.shape)\n",
        "\n",
        "    w = np.linalg.inv(A.T.dot(A)).dot(A.T.dot(Y))\n",
        "    return w\n",
        "\n",
        "A = addlcol(X_train)\n",
        "Y = Y_train\n",
        "w = find_weights(A, Y)\n",
        "print(w)"
      ],
      "execution_count": 7,
      "outputs": [
        {
          "output_type": "stream",
          "text": [
            "Ns:  120 Nx:  4\n",
            "(120, 5)\n",
            "(120, 3)\n",
            "[[ 0.06062508  0.05806364 -0.11868873]\n",
            " [ 0.10258458 -0.21112954  0.10854496]\n",
            " [-0.4070331   0.22897614  0.17805695]\n",
            " [-0.03856453 -0.30252108  0.34108561]\n",
            " [ 0.325       0.30833333  0.36666667]]\n"
          ],
          "name": "stdout"
        }
      ]
    },
    {
      "cell_type": "code",
      "metadata": {
        "colab": {
          "base_uri": "https://localhost:8080/"
        },
        "id": "EkQrhjpn0eHS",
        "outputId": "633627d3-28f9-47c9-dae8-3ff9d5f0b445"
      },
      "source": [
        "def evaluate(X, W, Yd, transform_X_a):\n",
        "  a = transform_X_a(X)\n",
        "  yd = np.argmax(Yd, axis = 1)\n",
        "  y = np.argmax(a.dot(W), axis = 1)\n",
        "  print('Confusion Matrix:')\n",
        "  print(confusion_matrix(yd, y))\n",
        "\n",
        "\n",
        "evaluate(X_train, w, Y_train, addlcol)\n",
        "evaluate(X_test, w, Y_test, addlcol)"
      ],
      "execution_count": 8,
      "outputs": [
        {
          "output_type": "stream",
          "text": [
            "Confusion Matrix:\n",
            "[[39  0  0]\n",
            " [ 0 22 15]\n",
            " [ 0  4 40]]\n",
            "Confusion Matrix:\n",
            "[[11  0  0]\n",
            " [ 0  6  7]\n",
            " [ 0  0  6]]\n"
          ],
          "name": "stdout"
        }
      ]
    },
    {
      "cell_type": "code",
      "metadata": {
        "colab": {
          "base_uri": "https://localhost:8080/"
        },
        "id": "V7Plesvh0hat",
        "outputId": "d950274b-8450-4dee-f975-87728294ada5"
      },
      "source": [
        "addSqlcol = lambda x: np.concatenate((x, x**2, np.ones((x.shape[0], 1))), axis = 1)\n",
        "\n",
        "A = addSqlcol(X_train)\n",
        "Y = Y_train\n",
        "w = find_weights(A, Y)\n",
        "print(w)\n",
        "evaluate(X_train, w, Y_train, addSqlcol)\n",
        "evaluate(X_test, w, Y_test, addSqlcol)"
      ],
      "execution_count": 9,
      "outputs": [
        {
          "output_type": "stream",
          "text": [
            "(120, 9)\n",
            "(120, 3)\n",
            "[[ 0.02212851  0.1284788  -0.15060731]\n",
            " [ 0.02261966  0.00396191 -0.02658157]\n",
            " [-0.31265762 -0.00385162  0.31650925]\n",
            " [-0.05916917 -0.24649968  0.30566885]\n",
            " [-0.03340995  0.13233974 -0.09892979]\n",
            " [-0.00993575  0.01269958 -0.00276383]\n",
            " [ 0.21451737 -0.58556233  0.37104496]\n",
            " [ 0.04009892 -0.0947794   0.05468048]\n",
            " [ 0.1137294   0.84363575  0.04263485]]\n",
            "Confusion Matrix:\n",
            "[[39  0  0]\n",
            " [ 0 35  2]\n",
            " [ 0  2 42]]\n",
            "Confusion Matrix:\n",
            "[[11  0  0]\n",
            " [ 0 13  0]\n",
            " [ 0  0  6]]\n"
          ],
          "name": "stdout"
        }
      ]
    },
    {
      "cell_type": "code",
      "metadata": {
        "id": "C0xqQcaB0k-a"
      },
      "source": [
        ""
      ],
      "execution_count": 9,
      "outputs": []
    }
  ]
}